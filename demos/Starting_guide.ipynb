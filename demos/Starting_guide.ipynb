{
 "cells": [
  {
   "cell_type": "markdown",
   "metadata": {},
   "source": [
    "# EmoAtlas - Starting guide\n",
    "EmoAtlas is a Python library that checks against the input text, after having enriched it and structured as a semantic network, against the multilingual [NRC Lexicon](https://saifmohammad.com/WebPages/NRC-Emotion-Lexicon.htm). The library is built upon the [Formamentis Networks](https://journals.plos.org/plosone/article?id=10.1371/journal.pone.0222870) from Stella et al. and the [PyPlutchik library](https://www.github.com/alfonsosemeraro/pyplutchik) (paper [here](https://journals.plos.org/plosone/article?id=10.1371/journal.pone.0256503))."
   ]
  },
  {
   "cell_type": "markdown",
   "metadata": {},
   "source": [
    "In particular, EmoAtlas offers two main functions, the first is to the first and most unique is to extract a Formamentis Network from the input text. The second is to plot the emotions associated with the text with the dyads Plutchik flower.\n",
    "\n",
    "By combining these functions, the semantic and syntactic meaning of the text can be analysed in greater depth.\n"
   ]
  },
  {
   "cell_type": "markdown",
   "metadata": {},
   "source": [
    "---\n",
    "\n",
    "## Setup\n",
    "\n",
    "### Installation\n",
    "\n",
    "To install this library, you can run this command:\n",
    "\n",
    "```\n",
    "pip install -q git+https://github.com/alfonsosemeraro/emoatlas\n",
    "```"
   ]
  },
  {
   "cell_type": "markdown",
   "metadata": {},
   "source": [
    "The package \"spaCY\" will require a language \"pipeline\" to be installed. \n",
    "\n",
    "The choice of this pipeline will be determined by your needs and the language you are interested in."
   ]
  },
  {
   "cell_type": "markdown",
   "metadata": {},
   "source": [
    "```\n",
    "English\n",
    "python -m spacy download en_core_web_lg\n",
    "\n",
    "Italian\n",
    "python -m spacy download it_core_news_lg\n",
    "```"
   ]
  },
  {
   "cell_type": "markdown",
   "metadata": {},
   "source": [
    "This library uses Natural Language Toolkit (NLTK) as a core dependency. If this is the first time you're using NLTK, you need to download its data depending on the language you are interested in."
   ]
  },
  {
   "cell_type": "code",
   "execution_count": 1,
   "metadata": {},
   "outputs": [
    {
     "name": "stderr",
     "output_type": "stream",
     "text": [
      "[nltk_data] Downloading package wordnet to\n",
      "[nltk_data]     C:\\Users\\ricca\\AppData\\Roaming\\nltk_data...\n",
      "[nltk_data]   Package wordnet is already up-to-date!\n"
     ]
    },
    {
     "data": {
      "text/plain": [
       "True"
      ]
     },
     "execution_count": 1,
     "metadata": {},
     "output_type": "execute_result"
    }
   ],
   "source": [
    "import nltk\n",
    "nltk.download('wordnet') #English\n",
    "# nltk.download('omw-1.4') #Italian\n"
   ]
  },
  {
   "cell_type": "markdown",
   "metadata": {},
   "source": [
    "#### Google Colab:\n",
    "If you are using Google Colab, you can use these lines to quickly install a working version of this package."
   ]
  },
  {
   "cell_type": "code",
   "execution_count": 2,
   "metadata": {},
   "outputs": [],
   "source": [
    "# !pip install -q git+https://github.com/alfonsosemeraro/emoatlas\n",
    "# !python -m spacy download en_core_web_lg\n",
    "# import nltk\n",
    "# nltk.download('wordnet')"
   ]
  },
  {
   "cell_type": "markdown",
   "metadata": {},
   "source": [
    "---\n",
    "\n",
    "## Using EmoScores\n",
    "\n",
    "To start using the library, it is necessary to import the following libraries:"
   ]
  },
  {
   "cell_type": "code",
   "execution_count": 3,
   "metadata": {},
   "outputs": [],
   "source": [
    "import matplotlib\n",
    "from emoatlas import EmoScores\n",
    "from collections import namedtuple #Used in this demo and to merge FMNTs"
   ]
  },
  {
   "cell_type": "markdown",
   "metadata": {},
   "source": [
    "The EmoScores is the core of EmoAtlas. This package uses this class to understand how to associate emotion scores to each word. Many options are available ( different emotion lexicons, emotion models, lemmatization/stemming). ❗ **By Default, EmoAtlas uses the english language, the plutchik emotion model and implements lemmatization.** ❗\n",
    "\n",
    "Stemming is the process of reducing words to their root form by removing suffixes. For example, the words \"running\" and \"runs\" would be reduced to the stem \"run\". \n",
    "\n",
    "**Lemmatization**, on the other hand, is the process of reducing words to their dictionary form, known as the lemma. For example, \"am\", \"are\", and \"is\" would all be lemmatized to \"be\".\n",
    "\n",
    "The class EmoScores() has many options that we can use to personalize its usage, here's a short list of some of the most important attributes and methods:\n",
    "- \\*language\\*: allows you to set which language you are going to analyze.\n",
    "- .set_stemming_lemmatization(stem_or_lem='stemming'): that we cause to change the strategy to stemming.\n",
    "\n",
    "All the other plots and analyses will be performed as EmoScores methods."
   ]
  },
  {
   "cell_type": "code",
   "execution_count": 4,
   "metadata": {},
   "outputs": [],
   "source": [
    "emos = EmoScores()\n",
    "\n",
    "# If you are interested in Italian (requires to download the necessary nltk data):\n",
    "# emos = EmoScores(language='italian')"
   ]
  },
  {
   "cell_type": "markdown",
   "metadata": {},
   "source": [
    "---\n",
    "\n",
    "# Creating FormaMentis Networks\n",
    "\n",
    "Once we have used EmoScores "
   ]
  },
  {
   "cell_type": "code",
   "execution_count": 5,
   "metadata": {},
   "outputs": [],
   "source": [
    "sample_text = \"\"\"In this text, we prefer dogs becase they are happy and dogs are positive.\n",
    "Good dogs make good friends. Cats however are bad and have negative links. We dislike cats.\"\"\"\n",
    "fmnt = emos.formamentis_network(sample_text) "
   ]
  },
  {
   "cell_type": "code",
   "execution_count": 6,
   "metadata": {},
   "outputs": [
    {
     "name": "stdout",
     "output_type": "stream",
     "text": [
      "FormamentisNetwork(edges=[('prefer', 'they'), ('text', 'we'), ('dog', 'they'), ('happy', 'they'), ('happy', 'prefer'), ('happy', 'we'), ('dog', 'prefer'), ('dog', 'positive'), ('dog', 'we'), ('positive', 'prefer'), ('positive', 'we'), ('dog', 'friend'), ('dog', 'good'), ('cat', 'link'), ('bad', 'link'), ('prefer', 'text'), ('dog', 'text'), ('prefer', 'we'), ('they', 'we'), ('dog', 'happy'), ('friend', 'good'), ('bad', 'cat'), ('link', 'negative'), ('cat', 'dislike'), ('dislike', 'we'), ('cat', 'we')], vertices=['cat', 'text', 'they', 'positive', 'we', 'link', 'bad', 'negative', 'good', 'dislike', 'happy', 'friend', 'prefer', 'dog'])\n"
     ]
    }
   ],
   "source": [
    "print(fmnt)"
   ]
  },
  {
   "cell_type": "code",
   "execution_count": null,
   "metadata": {},
   "outputs": [],
   "source": []
  }
 ],
 "metadata": {
  "kernelspec": {
   "display_name": "TFMN",
   "language": "python",
   "name": "python3"
  },
  "language_info": {
   "codemirror_mode": {
    "name": "ipython",
    "version": 3
   },
   "file_extension": ".py",
   "mimetype": "text/x-python",
   "name": "python",
   "nbconvert_exporter": "python",
   "pygments_lexer": "ipython3",
   "version": "3.11.7"
  }
 },
 "nbformat": 4,
 "nbformat_minor": 2
}
