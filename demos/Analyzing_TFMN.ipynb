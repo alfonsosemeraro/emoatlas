{
 "cells": [
  {
   "cell_type": "markdown",
   "metadata": {},
   "source": [
    "# An Introduction to analyzing Formamentis Networks using emoatlas\n",
    "\n",
    "\n",
    "❗ **If this is the first time you're using EmoAtlas, it is suggest to consult the Starting_guide.ipynb before reading this notebook ([Github link](https://github.com/alfonsosemeraro/emoatlas/blob/main/demos/Starting_guide.ipynb)).** ❗\n",
    "\n",
    "\n",
    "\n",
    "In this introduction, we will see what functions are offered by emoatlas for the analysis of Formamentis Networks.\n",
    "\n",
    "It is important to note that this notebook will deal with analysis techniques from a high-level perspective and not a statistical one. Its scope will be limited to showing examples of some analysis techniques for analyzing these TFMN (Textual forma mentis networks). There are many techniques that have been developed for network analysis, so the reader is invited to consult existing literature for further techniques and methods.\n",
    "\n",
    "If you are interested in a more sophisticated article of what is possible with EmoAtlas, please refer to [Social discourse and reopening after COVID-19: A post-lockdown analysis of flickering emotions and trending stances in Italy](https://firstmonday.org/ojs/index.php/fm/article/download/10881/9987).\n",
    "\n",
    "---\n",
    "\n"
   ]
  },
  {
   "cell_type": "markdown",
   "metadata": {},
   "source": [
    "## Setup"
   ]
  },
  {
   "cell_type": "code",
   "execution_count": 2,
   "metadata": {},
   "outputs": [],
   "source": [
    "from emoatlas import EmoScores"
   ]
  },
  {
   "cell_type": "code",
   "execution_count": 3,
   "metadata": {},
   "outputs": [
    {
     "name": "stdout",
     "output_type": "stream",
     "text": [
      "FormamentisNetwork(edges=[('prefer', 'they'), ('text', 'we'), ('dog', 'they'), ('happy', 'they'), ('happy', 'prefer'), ('happy', 'we'), ('dog', 'prefer'), ('dog', 'positive'), ('dog', 'we'), ('positive', 'prefer'), ('positive', 'we'), ('dog', 'friend'), ('dog', 'good'), ('cat', 'link'), ('bad', 'link'), ('friend', 'hound'), ('canine', 'friend'), ('dog', 'hound'), ('prefer', 'text'), ('dog', 'text'), ('prefer', 'we'), ('they', 'we'), ('dog', 'happy'), ('friend', 'good'), ('bad', 'cat'), ('link', 'negative'), ('cat', 'dislike'), ('dislike', 'we'), ('cat', 'we'), ('I', 'love'), ('friend', 'love'), ('hound', 'love'), ('aggressive', 'love'), ('canine', 'love'), ('aggressive', 'hound'), ('I', 'hound'), ('I', 'aggressive'), ('I', 'friend'), ('aggressive', 'friend'), ('I', 'canine')], vertices=['canine', 'we', 'good', 'bad', 'link', 'dog', 'friend', 'text', 'dislike', 'prefer', 'cat', 'positive', 'negative', 'aggressive', 'they', 'I', 'happy', 'love', 'hound'])\n"
     ]
    }
   ],
   "source": [
    "emos = EmoScores()\n",
    "\n",
    "sample_text = \"\"\"In this text, we prefer dogs becase they are happy and dogs are positive.\n",
    "Good dogs make good friends. Cats however are bad and have negative links. We dislike cats.\n",
    "And even if some hounds can be aggressive, I do love our canine friends.\"\"\"\n",
    "\n",
    "fmnt = emos.formamentis_network(sample_text) \n",
    "\n",
    "# We will see that fmnt is a Named Tuple of edges and vertices.\n",
    "print(fmnt)"
   ]
  },
  {
   "cell_type": "markdown",
   "metadata": {},
   "source": [
    "---\n",
    "\n",
    "# Utilities\n",
    "\n",
    "## Getting edgelists\n",
    "Depending on the type of analysis you want to perform with the networks, it may be useful to have access to the edgelist and vertices. Returning these elements is quite easy: once the fmnt is defined, it will only be necessary to use ```.edges``` or ```.vertices``` ."
   ]
  },
  {
   "cell_type": "code",
   "execution_count": 4,
   "metadata": {},
   "outputs": [
    {
     "name": "stdout",
     "output_type": "stream",
     "text": [
      "[('prefer', 'they'), ('text', 'we'), ('dog', 'they'), ('happy', 'they'), ('happy', 'prefer')]\n",
      "['canine', 'we', 'good', 'bad', 'link']\n"
     ]
    }
   ],
   "source": [
    "fmnt = emos.formamentis_network(sample_text) \n",
    "# Returns a list of all the edges\n",
    "print(fmnt.edges[0:5])\n",
    "# Returns a list of all the vertices.\n",
    "print(fmnt.vertices[0:5])"
   ]
  },
  {
   "cell_type": "markdown",
   "metadata": {},
   "source": [
    "If you are interested in representing also non-syntactic relationships, **multiplex must be set to True** and you need to specify the relationships with **semantic_enrichment**.\n",
    "\n",
    "After doing so, fmnt will be a dictionary of edgelists, as such, you will need to index this dictionary as is done in the example below:"
   ]
  },
  {
   "cell_type": "code",
   "execution_count": 5,
   "metadata": {},
   "outputs": [
    {
     "data": {
      "text/plain": [
       "[('dog', 'hound')]"
      ]
     },
     "execution_count": 5,
     "metadata": {},
     "output_type": "execute_result"
    }
   ],
   "source": [
    "fmnt = emos.formamentis_network(sample_text, semantic_enrichment=['synonyms','hypernyms'],multiplex=True) \n",
    "fmnt.edges['synonyms'] #getting the synonyms edgelist."
   ]
  }
 ],
 "metadata": {
  "kernelspec": {
   "display_name": "Emo_0_0_8",
   "language": "python",
   "name": "python3"
  },
  "language_info": {
   "codemirror_mode": {
    "name": "ipython",
    "version": 3
   },
   "file_extension": ".py",
   "mimetype": "text/x-python",
   "name": "python",
   "nbconvert_exporter": "python",
   "pygments_lexer": "ipython3",
   "version": "3.11.7"
  }
 },
 "nbformat": 4,
 "nbformat_minor": 2
}
